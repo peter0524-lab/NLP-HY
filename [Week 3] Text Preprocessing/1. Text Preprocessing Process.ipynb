{
 "cells": [
  {
   "cell_type": "markdown",
   "metadata": {
    "id": "A-dgXA2Qt1si"
   },
   "source": [
    "# Text Preprocessing"
   ]
  },
  {
   "cell_type": "code",
   "execution_count": null,
   "metadata": {
    "colab": {
     "base_uri": "https://localhost:8080/"
    },
    "executionInfo": {
     "elapsed": 12283,
     "status": "ok",
     "timestamp": 1732246016706,
     "user": {
      "displayName": "Alexa Keks",
      "userId": "18387218788867390061"
     },
     "user_tz": -60
    },
    "id": "EAoqkieb6Cqq",
    "outputId": "0fce2a8e-4da4-4486-b831-191cab34113c"
   },
   "outputs": [
    {
     "name": "stdout",
     "output_type": "stream",
     "text": [
      "2.17.1\n"
     ]
    }
   ],
   "source": [
    "import tensorflow\n",
    "print(tensorflow.__version__)"
   ]
  },
  {
   "cell_type": "code",
   "execution_count": null,
   "metadata": {
    "colab": {
     "base_uri": "https://localhost:8080/"
    },
    "executionInfo": {
     "elapsed": 7334,
     "status": "ok",
     "timestamp": 1732246068969,
     "user": {
      "displayName": "Alexa Keks",
      "userId": "18387218788867390061"
     },
     "user_tz": -60
    },
    "id": "FDRZc9LV6Oue",
    "outputId": "be0f6366-8a97-46cf-8f68-52248c46a90b"
   },
   "outputs": [
    {
     "name": "stdout",
     "output_type": "stream",
     "text": [
      "Requirement already satisfied: transformers in /usr/local/lib/python3.10/dist-packages (4.46.2)\n",
      "Collecting datasets\n",
      "  Downloading datasets-3.1.0-py3-none-any.whl.metadata (20 kB)\n",
      "Requirement already satisfied: filelock in /usr/local/lib/python3.10/dist-packages (from transformers) (3.16.1)\n",
      "Requirement already satisfied: huggingface-hub<1.0,>=0.23.2 in /usr/local/lib/python3.10/dist-packages (from transformers) (0.26.2)\n",
      "Requirement already satisfied: numpy>=1.17 in /usr/local/lib/python3.10/dist-packages (from transformers) (1.26.4)\n",
      "Requirement already satisfied: packaging>=20.0 in /usr/local/lib/python3.10/dist-packages (from transformers) (24.2)\n",
      "Requirement already satisfied: pyyaml>=5.1 in /usr/local/lib/python3.10/dist-packages (from transformers) (6.0.2)\n",
      "Requirement already satisfied: regex!=2019.12.17 in /usr/local/lib/python3.10/dist-packages (from transformers) (2024.9.11)\n",
      "Requirement already satisfied: requests in /usr/local/lib/python3.10/dist-packages (from transformers) (2.32.3)\n",
      "Requirement already satisfied: safetensors>=0.4.1 in /usr/local/lib/python3.10/dist-packages (from transformers) (0.4.5)\n",
      "Requirement already satisfied: tokenizers<0.21,>=0.20 in /usr/local/lib/python3.10/dist-packages (from transformers) (0.20.3)\n",
      "Requirement already satisfied: tqdm>=4.27 in /usr/local/lib/python3.10/dist-packages (from transformers) (4.66.6)\n",
      "Requirement already satisfied: pyarrow>=15.0.0 in /usr/local/lib/python3.10/dist-packages (from datasets) (17.0.0)\n",
      "Collecting dill<0.3.9,>=0.3.0 (from datasets)\n",
      "  Downloading dill-0.3.8-py3-none-any.whl.metadata (10 kB)\n",
      "Requirement already satisfied: pandas in /usr/local/lib/python3.10/dist-packages (from datasets) (2.2.2)\n",
      "Collecting xxhash (from datasets)\n",
      "  Downloading xxhash-3.5.0-cp310-cp310-manylinux_2_17_x86_64.manylinux2014_x86_64.whl.metadata (12 kB)\n",
      "Collecting multiprocess<0.70.17 (from datasets)\n",
      "  Downloading multiprocess-0.70.16-py310-none-any.whl.metadata (7.2 kB)\n",
      "Collecting fsspec<=2024.9.0,>=2023.1.0 (from fsspec[http]<=2024.9.0,>=2023.1.0->datasets)\n",
      "  Downloading fsspec-2024.9.0-py3-none-any.whl.metadata (11 kB)\n",
      "Requirement already satisfied: aiohttp in /usr/local/lib/python3.10/dist-packages (from datasets) (3.11.2)\n",
      "Requirement already satisfied: aiohappyeyeballs>=2.3.0 in /usr/local/lib/python3.10/dist-packages (from aiohttp->datasets) (2.4.3)\n",
      "Requirement already satisfied: aiosignal>=1.1.2 in /usr/local/lib/python3.10/dist-packages (from aiohttp->datasets) (1.3.1)\n",
      "Requirement already satisfied: attrs>=17.3.0 in /usr/local/lib/python3.10/dist-packages (from aiohttp->datasets) (24.2.0)\n",
      "Requirement already satisfied: frozenlist>=1.1.1 in /usr/local/lib/python3.10/dist-packages (from aiohttp->datasets) (1.5.0)\n",
      "Requirement already satisfied: multidict<7.0,>=4.5 in /usr/local/lib/python3.10/dist-packages (from aiohttp->datasets) (6.1.0)\n",
      "Requirement already satisfied: propcache>=0.2.0 in /usr/local/lib/python3.10/dist-packages (from aiohttp->datasets) (0.2.0)\n",
      "Requirement already satisfied: yarl<2.0,>=1.17.0 in /usr/local/lib/python3.10/dist-packages (from aiohttp->datasets) (1.17.2)\n",
      "Requirement already satisfied: async-timeout<6.0,>=4.0 in /usr/local/lib/python3.10/dist-packages (from aiohttp->datasets) (4.0.3)\n",
      "Requirement already satisfied: typing-extensions>=3.7.4.3 in /usr/local/lib/python3.10/dist-packages (from huggingface-hub<1.0,>=0.23.2->transformers) (4.12.2)\n",
      "Requirement already satisfied: charset-normalizer<4,>=2 in /usr/local/lib/python3.10/dist-packages (from requests->transformers) (3.4.0)\n",
      "Requirement already satisfied: idna<4,>=2.5 in /usr/local/lib/python3.10/dist-packages (from requests->transformers) (3.10)\n",
      "Requirement already satisfied: urllib3<3,>=1.21.1 in /usr/local/lib/python3.10/dist-packages (from requests->transformers) (2.2.3)\n",
      "Requirement already satisfied: certifi>=2017.4.17 in /usr/local/lib/python3.10/dist-packages (from requests->transformers) (2024.8.30)\n",
      "Requirement already satisfied: python-dateutil>=2.8.2 in /usr/local/lib/python3.10/dist-packages (from pandas->datasets) (2.8.2)\n",
      "Requirement already satisfied: pytz>=2020.1 in /usr/local/lib/python3.10/dist-packages (from pandas->datasets) (2024.2)\n",
      "Requirement already satisfied: tzdata>=2022.7 in /usr/local/lib/python3.10/dist-packages (from pandas->datasets) (2024.2)\n",
      "Requirement already satisfied: six>=1.5 in /usr/local/lib/python3.10/dist-packages (from python-dateutil>=2.8.2->pandas->datasets) (1.16.0)\n",
      "Downloading datasets-3.1.0-py3-none-any.whl (480 kB)\n",
      "\u001b[2K   \u001b[90m━━━━━━━━━━━━━━━━━━━━━━━━━━━━━━━━━━━━━━━━\u001b[0m \u001b[32m480.6/480.6 kB\u001b[0m \u001b[31m8.5 MB/s\u001b[0m eta \u001b[36m0:00:00\u001b[0m\n",
      "\u001b[?25hDownloading dill-0.3.8-py3-none-any.whl (116 kB)\n",
      "\u001b[2K   \u001b[90m━━━━━━━━━━━━━━━━━━━━━━━━━━━━━━━━━━━━━━━━\u001b[0m \u001b[32m116.3/116.3 kB\u001b[0m \u001b[31m10.8 MB/s\u001b[0m eta \u001b[36m0:00:00\u001b[0m\n",
      "\u001b[?25hDownloading fsspec-2024.9.0-py3-none-any.whl (179 kB)\n",
      "\u001b[2K   \u001b[90m━━━━━━━━━━━━━━━━━━━━━━━━━━━━━━━━━━━━━━━━\u001b[0m \u001b[32m179.3/179.3 kB\u001b[0m \u001b[31m17.6 MB/s\u001b[0m eta \u001b[36m0:00:00\u001b[0m\n",
      "\u001b[?25hDownloading multiprocess-0.70.16-py310-none-any.whl (134 kB)\n",
      "\u001b[2K   \u001b[90m━━━━━━━━━━━━━━━━━━━━━━━━━━━━━━━━━━━━━━━━\u001b[0m \u001b[32m134.8/134.8 kB\u001b[0m \u001b[31m14.2 MB/s\u001b[0m eta \u001b[36m0:00:00\u001b[0m\n",
      "\u001b[?25hDownloading xxhash-3.5.0-cp310-cp310-manylinux_2_17_x86_64.manylinux2014_x86_64.whl (194 kB)\n",
      "\u001b[2K   \u001b[90m━━━━━━━━━━━━━━━━━━━━━━━━━━━━━━━━━━━━━━━━\u001b[0m \u001b[32m194.1/194.1 kB\u001b[0m \u001b[31m19.2 MB/s\u001b[0m eta \u001b[36m0:00:00\u001b[0m\n",
      "\u001b[?25hInstalling collected packages: xxhash, fsspec, dill, multiprocess, datasets\n",
      "  Attempting uninstall: fsspec\n",
      "    Found existing installation: fsspec 2024.10.0\n",
      "    Uninstalling fsspec-2024.10.0:\n",
      "      Successfully uninstalled fsspec-2024.10.0\n",
      "\u001b[31mERROR: pip's dependency resolver does not currently take into account all the packages that are installed. This behaviour is the source of the following dependency conflicts.\n",
      "gcsfs 2024.10.0 requires fsspec==2024.10.0, but you have fsspec 2024.9.0 which is incompatible.\u001b[0m\u001b[31m\n",
      "\u001b[0mSuccessfully installed datasets-3.1.0 dill-0.3.8 fsspec-2024.9.0 multiprocess-0.70.16 xxhash-3.5.0\n"
     ]
    }
   ],
   "source": [
    "!pip install transformers datasets"
   ]
  },
  {
   "cell_type": "code",
   "execution_count": null,
   "metadata": {
    "executionInfo": {
     "elapsed": 7925,
     "status": "ok",
     "timestamp": 1732246051269,
     "user": {
      "displayName": "Alexa Keks",
      "userId": "18387218788867390061"
     },
     "user_tz": -60
    },
    "id": "XuwpHqoW20cN"
   },
   "outputs": [],
   "source": [
    "import tensorflow_probability as tfp"
   ]
  },
  {
   "cell_type": "code",
   "execution_count": null,
   "metadata": {
    "executionInfo": {
     "elapsed": 19568,
     "status": "ok",
     "timestamp": 1732246088969,
     "user": {
      "displayName": "Alexa Keks",
      "userId": "18387218788867390061"
     },
     "user_tz": -60
    },
    "id": "9Bt_miUZHXJ8"
   },
   "outputs": [],
   "source": [
    "import tensorflow as tf### models\n",
    "import numpy as np### math computations\n",
    "import matplotlib.pyplot as plt### plotting bar chart\n",
    "import sklearn### machine learning library\n",
    "import cv2## image processing\n",
    "from sklearn.metrics import confusion_matrix, roc_curve### metrics\n",
    "import seaborn as sns### visualizations\n",
    "import datetime # For Datetime Functions\n",
    "import pathlib # handling files and paths on your operating system\n",
    "import io # dealing with various types of I/O\n",
    "import os\n",
    "import re # for Regular Expressions\n",
    "import string\n",
    "import time\n",
    "from numpy import random\n",
    "import gensim.downloader as api # to download pre-trained model datasets and word embeddings from Gensim's repository\n",
    "from PIL import Image # manipulating images, resizing, cropping, adding text\n",
    "import tensorflow_datasets as tfds # Tf Datasets\n",
    "\n",
    "from tensorflow.keras.models import Model\n",
    "from tensorflow.keras.layers import Layer\n",
    "from tensorflow.keras.layers import (Dense,Flatten,InputLayer,BatchNormalization,\n",
    "                                     Dropout,Input,LayerNormalization)\n",
    "from tensorflow.keras.losses import (BinaryCrossentropy,CategoricalCrossentropy,\n",
    "                                    SparseCategoricalCrossentropy)\n",
    "from tensorflow.keras.metrics import (Accuracy,TopKCategoricalAccuracy,\n",
    "                                 CategoricalAccuracy, SparseCategoricalAccuracy)\n",
    "from tensorflow.keras.optimizers import Adam\n",
    "from google.colab import drive\n",
    "from google.colab import files\n",
    "from datasets import load_dataset\n",
    "from transformers import (BertTokenizerFast,TFBertTokenizer,BertTokenizer,RobertaTokenizerFast,\n",
    "                          DataCollatorWithPadding,TFRobertaForSequenceClassification,TFBertForSequenceClassification,\n",
    "                          TFBertModel,create_optimizer)"
   ]
  },
  {
   "cell_type": "code",
   "execution_count": null,
   "metadata": {},
   "outputs": [],
   "source": []
  },
  {
   "cell_type": "markdown",
   "metadata": {
    "id": "FieG-MNnt1so"
   },
   "source": [
    "## 1. Tokenization"
   ]
  },
  {
   "cell_type": "markdown",
   "metadata": {
    "id": "_GnS6l6Yt1so"
   },
   "source": [
    "#### Installing NLTK (https://www.nltk.org/)"
   ]
  },
  {
   "cell_type": "markdown",
   "metadata": {
    "id": "E_YsWxUSaEQO"
   },
   "source": [
    "Tokenization is the process of splitting text into smaller units, such as words or sentences, which are called tokens. It’s a key step in text preprocessing for natural language processing tasks.\n",
    "\n",
    "To get started, you need to install the NLTK library, which provides various tools for tokenization and other text analysis tasks. You can install it by following the instructions on the official website: https://www.nltk.org/."
   ]
  },
  {
   "cell_type": "code",
   "execution_count": null,
   "metadata": {
    "colab": {
     "base_uri": "https://localhost:8080/"
    },
    "executionInfo": {
     "elapsed": 11062,
     "status": "ok",
     "timestamp": 1727057378751,
     "user": {
      "displayName": "­손민주 | 인공지능학과 | 한양대(서울)",
      "userId": "12088855146953780462"
     },
     "user_tz": -540
    },
    "id": "XlPlwIEMt1sp",
    "outputId": "55c022b4-d567-4b1c-e657-5ea35f3196ab"
   },
   "outputs": [
    {
     "name": "stderr",
     "output_type": "stream",
     "text": [
      "[nltk_data] Downloading package punkt to /root/nltk_data...\n",
      "[nltk_data]   Unzipping tokenizers/punkt.zip.\n",
      "[nltk_data] Downloading package webtext to /root/nltk_data...\n",
      "[nltk_data]   Unzipping corpora/webtext.zip.\n",
      "[nltk_data] Downloading package wordnet to /root/nltk_data...\n",
      "[nltk_data] Downloading package stopwords to /root/nltk_data...\n",
      "[nltk_data]   Unzipping corpora/stopwords.zip.\n",
      "[nltk_data] Downloading package averaged_perceptron_tagger to\n",
      "[nltk_data]     /root/nltk_data...\n",
      "[nltk_data]   Unzipping taggers/averaged_perceptron_tagger.zip.\n",
      "[nltk_data] Downloading package omw-1.4 to /root/nltk_data...\n",
      "[nltk_data] Downloading package tagsets to /root/nltk_data...\n",
      "[nltk_data]   Unzipping help/tagsets.zip.\n",
      "[nltk_data] Downloading package maxent_ne_chunker to\n",
      "[nltk_data]     /root/nltk_data...\n",
      "[nltk_data]   Unzipping chunkers/maxent_ne_chunker.zip.\n",
      "[nltk_data] Downloading package words to /root/nltk_data...\n",
      "[nltk_data]   Unzipping corpora/words.zip.\n"
     ]
    },
    {
     "data": {
      "text/plain": [
       "True"
      ]
     },
     "execution_count": 1,
     "metadata": {},
     "output_type": "execute_result"
    }
   ],
   "source": [
    "# Downloading necessary NLTK libraries\n",
    "import nltk\n",
    "nltk.download('punkt')\n",
    "nltk.download('webtext')\n",
    "nltk.download('wordnet')\n",
    "nltk.download('stopwords')\n",
    "nltk.download('averaged_perceptron_tagger')\n",
    "nltk.download('omw-1.4')\n",
    "nltk.download('tagsets')\n",
    "nltk.download('maxent_ne_chunker')\n",
    "nltk.download('words')"
   ]
  },
  {
   "cell_type": "markdown",
   "metadata": {
    "id": "oefiA1B6t1ss"
   },
   "source": [
    "### 1.1 Sentence Tokenize"
   ]
  },
  {
   "cell_type": "code",
   "execution_count": null,
   "metadata": {
    "id": "Pt4z86CWt1st"
   },
   "outputs": [],
   "source": [
    "para = \"Hello everyone. It's good to see you. Let's start our Unstructured Data Analysis class!\""
   ]
  },
  {
   "cell_type": "code",
   "execution_count": null,
   "metadata": {
    "colab": {
     "base_uri": "https://localhost:8080/"
    },
    "executionInfo": {
     "elapsed": 532,
     "status": "ok",
     "timestamp": 1727057449881,
     "user": {
      "displayName": "­손민주 | 인공지능학과 | 한양대(서울)",
      "userId": "12088855146953780462"
     },
     "user_tz": -540
    },
    "id": "rykI3rJLt1st",
    "outputId": "8f6aa326-5a11-48d6-ef76-6f7b505ce281"
   },
   "outputs": [
    {
     "name": "stdout",
     "output_type": "stream",
     "text": [
      "['Hello everyone.', \"It's good to see you.\", \"Let's start our Unstructured Data Analysis class!\"]\n"
     ]
    }
   ],
   "source": [
    "from nltk.tokenize import sent_tokenize\n",
    "print(sent_tokenize(para))\n",
    "# Tokenizing the given text into sentences, primarily using . ! ? as delimiters. (period, exclamation mark, question mark)"
   ]
  },
  {
   "cell_type": "code",
   "execution_count": null,
   "metadata": {
    "colab": {
     "base_uri": "https://localhost:8080/"
    },
    "executionInfo": {
     "elapsed": 405,
     "status": "ok",
     "timestamp": 1727057495109,
     "user": {
      "displayName": "­손민주 | 인공지능학과 | 한양대(서울)",
      "userId": "12088855146953780462"
     },
     "user_tz": -540
    },
    "id": "3XmiYjx9t1su",
    "outputId": "73c2c5db-2a6a-4d4c-aa7d-7d07055f25b8"
   },
   "outputs": [
    {
     "name": "stdout",
     "output_type": "stream",
     "text": [
      "[\"Je t'ai demandé si tu m'aimais bien, Tu m'a répondu non.\", \"Je t'ai demandé si j'étais jolie, Tu m'a répondu non.\", \"Je t'ai demandé si j'étai dans ton coeur, Tu m'a répondu non.\"]\n"
     ]
    }
   ],
   "source": [
    "paragraph_french = \"\"\"Je t'ai demandé si tu m'aimais bien, Tu m'a répondu non.\n",
    "Je t'ai demandé si j'étais jolie, Tu m'a répondu non.\n",
    "Je t'ai demandé si j'étai dans ton coeur, Tu m'a répondu non.\"\"\"\n",
    "\n",
    "import nltk.data\n",
    "tokenizer = nltk.data.load('tokenizers/punkt/french.pickle')\n",
    "print(tokenizer.tokenize(paragraph_french))"
   ]
  },
  {
   "cell_type": "code",
   "execution_count": null,
   "metadata": {
    "id": "gsthcG6ot1sv"
   },
   "outputs": [],
   "source": [
    "para_kor = \"안녕하세요, 여러분. 만나서 반갑습니다. 이제 비정형데이터분석 수업을 시작해봅시다!\""
   ]
  },
  {
   "cell_type": "code",
   "execution_count": null,
   "metadata": {
    "colab": {
     "base_uri": "https://localhost:8080/"
    },
    "executionInfo": {
     "elapsed": 531,
     "status": "ok",
     "timestamp": 1727057516034,
     "user": {
      "displayName": "­손민주 | 인공지능학과 | 한양대(서울)",
      "userId": "12088855146953780462"
     },
     "user_tz": -540
    },
    "id": "1wm1k-S1t1sw",
    "outputId": "864dea18-9925-47c2-9f2b-91136bb8cde8"
   },
   "outputs": [
    {
     "name": "stdout",
     "output_type": "stream",
     "text": [
      "['안녕하세요, 여러분.', '만나서 반갑습니다.', '이제 비정형데이터분석 수업을 시작해봅시다!']\n"
     ]
    }
   ],
   "source": [
    "print(sent_tokenize(para_kor)) # The sentence tokenizer works well for Korean text as well."
   ]
  },
  {
   "cell_type": "markdown",
   "metadata": {
    "id": "oTeJZJBjt1sw"
   },
   "source": [
    "### 1.2 Word Tokenize"
   ]
  },
  {
   "cell_type": "markdown",
   "metadata": {
    "id": "nGVwXYPDXSwM"
   },
   "source": [
    "The code imports the word_tokenize function from the NLTK library and then uses it to break down the given text (stored in the para variable) into individual words. The word_tokenize(para) function tokenizes the input text into word-level tokens, and the print function displays the tokenized output."
   ]
  },
  {
   "cell_type": "code",
   "execution_count": null,
   "metadata": {
    "colab": {
     "base_uri": "https://localhost:8080/"
    },
    "executionInfo": {
     "elapsed": 333,
     "status": "ok",
     "timestamp": 1727057545708,
     "user": {
      "displayName": "­손민주 | 인공지능학과 | 한양대(서울)",
      "userId": "12088855146953780462"
     },
     "user_tz": -540
    },
    "id": "98l0nBDht1sx",
    "outputId": "6be7b6f3-1508-4338-e9e6-361b51af8e6b"
   },
   "outputs": [
    {
     "name": "stdout",
     "output_type": "stream",
     "text": [
      "['Hello', 'everyone', '.', 'It', \"'s\", 'good', 'to', 'see', 'you', '.', 'Let', \"'s\", 'start', 'our', 'Unstructured', 'Data', 'Analysis', 'class', '!']\n"
     ]
    }
   ],
   "source": [
    "from nltk.tokenize import word_tokenize\n",
    "print(word_tokenize(para)) # Tokenizing the given text into words."
   ]
  },
  {
   "cell_type": "code",
   "execution_count": null,
   "metadata": {
    "colab": {
     "base_uri": "https://localhost:8080/"
    },
    "executionInfo": {
     "elapsed": 6,
     "status": "ok",
     "timestamp": 1727057546706,
     "user": {
      "displayName": "­손민주 | 인공지능학과 | 한양대(서울)",
      "userId": "12088855146953780462"
     },
     "user_tz": -540
    },
    "id": "tSMF0Ftvt1sx",
    "outputId": "e6064ac9-ff03-41b9-eb9b-60b900868323"
   },
   "outputs": [
    {
     "name": "stdout",
     "output_type": "stream",
     "text": [
      "['Hello', 'everyone', '.', 'It', \"'\", 's', 'good', 'to', 'see', 'you', '.', 'Let', \"'\", 's', 'start', 'our', 'Unstructured', 'Data', 'Analysis', 'class', '!']\n"
     ]
    }
   ],
   "source": [
    "from nltk.tokenize import WordPunctTokenizer\n",
    "print(WordPunctTokenizer().tokenize(para))"
   ]
  },
  {
   "cell_type": "code",
   "execution_count": null,
   "metadata": {
    "colab": {
     "base_uri": "https://localhost:8080/"
    },
    "executionInfo": {
     "elapsed": 395,
     "status": "ok",
     "timestamp": 1727052463977,
     "user": {
      "displayName": "­손민주 | 인공지능학과 | 한양대(서울)",
      "userId": "12088855146953780462"
     },
     "user_tz": -540
    },
    "id": "5DMinFKTt1sy",
    "outputId": "75603fed-70e7-4fc8-dc90-c6685079fe40"
   },
   "outputs": [
    {
     "name": "stdout",
     "output_type": "stream",
     "text": [
      "['안녕하세요', ',', '여러분', '.', '만나서', '반갑습니다', '.', '이제', '비정형데이터분석', '수업을', '시작해봅시다', '!']\n"
     ]
    }
   ],
   "source": [
    "print(word_tokenize(para_kor))"
   ]
  },
  {
   "cell_type": "markdown",
   "metadata": {
    "id": "C6TPlthIXtnL"
   },
   "source": [
    "word_tokenize splits text into words while handling punctuation and contractions more naturally (e.g., don't becomes do and n't).\n",
    "\n",
    "In contrast, WordPunctTokenizer splits text into words and separates every punctuation mark. For example, don't would be split into don and 't. It's more detailed in separating punctuation."
   ]
  },
  {
   "cell_type": "markdown",
   "metadata": {
    "id": "RvoEn9KhXwj3"
   },
   "source": [
    "Depending on the characteristics of the text being analyzed, you can choose one of these tokenizers. word_tokenize is better for natural text, while WordPunctTokenizer is useful when you need to separate punctuation more explicitly."
   ]
  },
  {
   "cell_type": "markdown",
   "metadata": {
    "id": "IY6lSRIkt1sy"
   },
   "source": [
    "### 1.3 Tokenization Using Regular Expressions"
   ]
  },
  {
   "cell_type": "markdown",
   "metadata": {
    "id": "Eqap8JLxYBjZ"
   },
   "source": [
    "Tokenization using regular expressions involves splitting text based on specific patterns defined by regular expressions. This method allows for more control over how text is divided, such as splitting by spaces, punctuation, or other custom patterns."
   ]
  },
  {
   "cell_type": "code",
   "execution_count": null,
   "metadata": {
    "colab": {
     "base_uri": "https://localhost:8080/"
    },
    "executionInfo": {
     "elapsed": 418,
     "status": "ok",
     "timestamp": 1727057669387,
     "user": {
      "displayName": "­손민주 | 인공지능학과 | 한양대(서울)",
      "userId": "12088855146953780462"
     },
     "user_tz": -540
    },
    "id": "mNlUdvVGt1s1",
    "outputId": "ecf43fb7-819a-4187-c574-04347500377e"
   },
   "outputs": [
    {
     "name": "stdout",
     "output_type": "stream",
     "text": [
      "['Sorry', 'I', \"can't\", 'go', 'there']\n"
     ]
    }
   ],
   "source": [
    "from nltk.tokenize import RegexpTokenizer\n",
    "tokenizer = RegexpTokenizer(\"[\\w']+\") # # Tokenizer using a regular expression\n",
    "# Tokenizes into words \\w: Represents a word character (letter or digit)\n",
    "# It finds sequences of letters, digits, or ' that repeat\n",
    "print(tokenizer.tokenize(\"Sorry, I can't go there.\"))\n",
    "# Treats \"can't\" as a single word\n",
    "\n",
    "\n",
    "#\\w: Matches any word character, which includes letters and digits (equivalent to [a-zA-Z0-9_]).\n",
    "# ': Allows the tokenizer to include apostrophes (useful for handling contractions like \"can't\").\n",
    "#  +: Ensures that the tokenizer matches sequences of word characters and apostrophes that repeat, treating them as a single token."
   ]
  },
  {
   "cell_type": "code",
   "execution_count": null,
   "metadata": {
    "colab": {
     "base_uri": "https://localhost:8080/"
    },
    "executionInfo": {
     "elapsed": 7,
     "status": "ok",
     "timestamp": 1727057690292,
     "user": {
      "displayName": "­손민주 | 인공지능학과 | 한양대(서울)",
      "userId": "12088855146953780462"
     },
     "user_tz": -540
    },
    "id": "hcb4HHA9t1s1",
    "outputId": "5981c3dc-4c76-4a23-d43b-f3118432ec16"
   },
   "outputs": [
    {
     "name": "stdout",
     "output_type": "stream",
     "text": [
      "['Sorry', 'I', 'can', 't', 'go', 'there']\n"
     ]
    }
   ],
   "source": [
    "tokenizer = RegexpTokenizer(\"[\\w]+\")\n",
    "print(tokenizer.tokenize(\"Sorry, I can't go there.\"))\n",
    "\n",
    "#the regular expression [\\w]+ is used. This pattern matches only word characters (letters or digits) without allowing apostrophes. As a result, can't will be split into two tokens: can and t."
   ]
  },
  {
   "cell_type": "markdown",
   "metadata": {
    "id": "rdryjC1hYjxP"
   },
   "source": [
    "In the first tokenizer, the regular expression [\\w']+ is used. This pattern matches sequences of word characters (letters or digits) and allows apostrophes ('). This means words like can't will be treated as a single token.\n",
    "\n",
    "In the second tokenizer, the regular expression [\\w]+ is used. This pattern matches only word characters (letters or digits) without allowing apostrophes. As a result, can't will be split into two tokens: can and t."
   ]
  },
  {
   "cell_type": "code",
   "execution_count": null,
   "metadata": {
    "colab": {
     "base_uri": "https://localhost:8080/"
    },
    "executionInfo": {
     "elapsed": 360,
     "status": "ok",
     "timestamp": 1727057753864,
     "user": {
      "displayName": "­손민주 | 인공지능학과 | 한양대(서울)",
      "userId": "12088855146953780462"
     },
     "user_tz": -540
    },
    "id": "MRYD5nEwt1s1",
    "outputId": "ce7c0075-4982-4d8f-a2f6-e264e0c71cef"
   },
   "outputs": [
    {
     "name": "stdout",
     "output_type": "stream",
     "text": [
      "['sorry', \"can't\", 'there']\n"
     ]
    }
   ],
   "source": [
    "text1 = \"Sorry, I can't go there.\"\n",
    "tokenizer = RegexpTokenizer(\"[\\w']{3,}\")           #the token must be atleast 3 characters long\n",
    "print(tokenizer.tokenize(text1.lower()))"
   ]
  },
  {
   "cell_type": "markdown",
   "metadata": {
    "id": "XTKxSf4gY0SU"
   },
   "source": [
    "In this case, the regular expression [\\w']{3,} is used. This pattern matches sequences of word characters (letters or digits) and apostrophes, but only if they are three or more characters long. The {3,} specifies that the token must be at least 3 characters long. This means shorter words like I will be excluded, while words like sorry and can't will be included as tokens.\n",
    "\n",
    "Additionally, the text1.lower() converts the text to lowercase before tokenization"
   ]
  },
  {
   "cell_type": "markdown",
   "metadata": {
    "id": "1RzUEFOct1s2"
   },
   "source": [
    "### 1.4 Removing Noise and Stopwords"
   ]
  },
  {
   "cell_type": "markdown",
   "metadata": {
    "id": "TmnzBMoAY2uD"
   },
   "source": [
    "Removing noise and stopwords is done to clean the text and focus on meaningful content. Noise includes irrelevant characters, symbols, or data that don't contribute to the analysis. Stopwords are common words like 'the,' 'is,' or 'and,' which don't carry much meaning by themselves. Removing them helps improve the efficiency and accuracy of text analysis."
   ]
  },
  {
   "cell_type": "code",
   "execution_count": null,
   "metadata": {
    "colab": {
     "base_uri": "https://localhost:8080/"
    },
    "executionInfo": {
     "elapsed": 7,
     "status": "ok",
     "timestamp": 1727057857147,
     "user": {
      "displayName": "­손민주 | 인공지능학과 | 한양대(서울)",
      "userId": "12088855146953780462"
     },
     "user_tz": -540
    },
    "id": "fnBNlgV9t1s2",
    "outputId": "31838df3-4b33-42cd-ed7a-56d0c2b692e5"
   },
   "outputs": [
    {
     "name": "stdout",
     "output_type": "stream",
     "text": [
      "['sorry', 'go', 'movie', 'yesterday']\n"
     ]
    }
   ],
   "source": [
    "from nltk.corpus import stopwords  # Common words that are not typically analyzed\n",
    "english_stops = set(stopwords.words('english'))  # Converting to a set to avoid duplicates\n",
    "\n",
    "text1 = \"Sorry, I couldn't go to movie yesterday.\"\n",
    "\n",
    "tokenizer = RegexpTokenizer(\"[\\w']+\")\n",
    "tokens = tokenizer.tokenize(text1.lower())  # Tokenizing with word_tokenize\n",
    "\n",
    "result = [word for word in tokens if word not in english_stops]  # Creating a list of words excluding stopwords\n",
    "print(result)"
   ]
  },
  {
   "cell_type": "code",
   "execution_count": null,
   "metadata": {
    "colab": {
     "base_uri": "https://localhost:8080/"
    },
    "executionInfo": {
     "elapsed": 454,
     "status": "ok",
     "timestamp": 1727057867316,
     "user": {
      "displayName": "­손민주 | 인공지능학과 | 한양대(서울)",
      "userId": "12088855146953780462"
     },
     "user_tz": -540
    },
    "id": "gzmW25RTt1s2",
    "outputId": "0679a12d-7d91-4227-b990-13fdcdf536fb"
   },
   "outputs": [
    {
     "name": "stdout",
     "output_type": "stream",
     "text": [
      "{'ours', 'each', 'here', 'we', 'few', 'very', 'yours', 'doing', 'all', 'who', 'they', 'the', 'under', 'for', 'just', 'myself', 'same', 'is', 'itself', 'hers', 'no', 'hadn', 'theirs', 'below', 'so', 'mustn', 'against', \"it's\", 'whom', \"needn't\", \"shan't\", 'over', \"mightn't\", \"didn't\", 'than', 'will', 'when', 'shouldn', 'after', 'aren', \"aren't\", 'you', 'he', 'needn', 'me', 'been', 'nor', \"you'd\", 'on', 'themselves', \"you're\", 'these', 'but', \"you've\", \"shouldn't\", 'of', \"haven't\", 're', \"you'll\", 'my', 'those', 'into', 'not', \"wouldn't\", 'at', 'both', \"isn't\", 'above', 'do', 'only', 'other', 'such', 'and', 'our', 'through', 'more', 'she', 'while', 'again', 'wasn', 'some', 'can', 'am', \"couldn't\", 'your', 'this', 'isn', \"weren't\", 'does', 'during', 'had', 'an', 'because', 'if', 'd', 'didn', 'its', 'that', 'their', 'by', 'yourselves', 'them', 'now', 've', 'shan', 'down', 'too', 'where', 'off', 'has', 'be', 'it', 'being', 'as', 'with', 'having', 'about', 'before', 'won', 'are', 'were', \"don't\", \"wasn't\", 'll', 'or', 'most', \"hasn't\", \"mustn't\", 'm', \"won't\", 'have', 'in', 'wouldn', 'any', 'o', 'a', 'then', 'herself', 'ain', 'weren', 'ourselves', \"hadn't\", 'hasn', 'don', 'from', 'how', 'until', 'own', 'there', 'what', 'should', 'ma', \"should've\", 'him', 'his', \"doesn't\", 'out', 'her', 'between', \"she's\", 'y', 'to', 'which', 'himself', 'doesn', 'did', 'why', 'once', 's', 'mightn', \"that'll\", 'i', 'up', 't', 'yourself', 'further', 'couldn', 'haven', 'was'}\n"
     ]
    }
   ],
   "source": [
    "print(english_stops)  # Display the English stopwords provided by NLTK"
   ]
  },
  {
   "cell_type": "code",
   "execution_count": null,
   "metadata": {
    "colab": {
     "base_uri": "https://localhost:8080/"
    },
    "executionInfo": {
     "elapsed": 310,
     "status": "ok",
     "timestamp": 1727057930097,
     "user": {
      "displayName": "­손민주 | 인공지능학과 | 한양대(서울)",
      "userId": "12088855146953780462"
     },
     "user_tz": -540
    },
    "id": "VHgqudz-t1s2",
    "outputId": "3b425adb-4e9f-417c-aa5d-899e0990d56d"
   },
   "outputs": [
    {
     "name": "stdout",
     "output_type": "stream",
     "text": [
      "['sorry', \"couldn't\", 'movie', 'yesterday']\n"
     ]
    }
   ],
   "source": [
    "# Creating and using custom stopwords\n",
    "# Useful for processing Korean text as well\n",
    "my_stopword = ['i', 'go', 'to']  # Defining custom stopwords in a list\n",
    "result = [word for word in tokens if word not in my_stopword]\n",
    "print(result)"
   ]
  },
  {
   "cell_type": "markdown",
   "metadata": {
    "id": "TxCEjoMPt1s3"
   },
   "source": [
    "# 2. Normalization\n",
    "## 2.1 Stemming"
   ]
  },
  {
   "cell_type": "markdown",
   "metadata": {
    "id": "xO5veClAZJdC"
   },
   "source": [
    "Normalization involves converting text into a consistent format to improve analysis."
   ]
  },
  {
   "cell_type": "markdown",
   "metadata": {
    "id": "OvibeoeZZLh8"
   },
   "source": [
    "Stemming reduces words to their base or root form by cutting off prefixes or suffixes. For example, 'running' becomes 'run.' It’s a quick method but can sometimes produce non-standard words."
   ]
  },
  {
   "cell_type": "code",
   "execution_count": null,
   "metadata": {
    "colab": {
     "base_uri": "https://localhost:8080/"
    },
    "executionInfo": {
     "elapsed": 326,
     "status": "ok",
     "timestamp": 1727057980656,
     "user": {
      "displayName": "­손민주 | 인공지능학과 | 한양대(서울)",
      "userId": "12088855146953780462"
     },
     "user_tz": -540
    },
    "id": "Y4UhsF7nt1s3",
    "outputId": "bd38106f-6395-4fb0-e796-7acc7bb46556"
   },
   "outputs": [
    {
     "name": "stdout",
     "output_type": "stream",
     "text": [
      "cook cookeri cookbook\n"
     ]
    }
   ],
   "source": [
    "from nltk.stem import PorterStemmer\n",
    "stemmer = PorterStemmer()\n",
    "print(stemmer.stem('cooking'), stemmer.stem('cookery'), stemmer.stem('cookbooks'))"
   ]
  },
  {
   "cell_type": "code",
   "execution_count": null,
   "metadata": {
    "colab": {
     "base_uri": "https://localhost:8080/"
    },
    "executionInfo": {
     "elapsed": 314,
     "status": "ok",
     "timestamp": 1727057990871,
     "user": {
      "displayName": "­손민주 | 인공지능학과 | 한양대(서울)",
      "userId": "12088855146953780462"
     },
     "user_tz": -540
    },
    "id": "lF5fU1Fht1s3",
    "outputId": "528eee41-a39f-458c-bb51-81c7d590a85e"
   },
   "outputs": [
    {
     "name": "stdout",
     "output_type": "stream",
     "text": [
      "['Hello', 'everyone', '.', 'It', \"'s\", 'good', 'to', 'see', 'you', '.', 'Let', \"'s\", 'start', 'our', 'text', 'mining', 'class', '!']\n",
      "['hello', 'everyon', '.', 'it', \"'s\", 'good', 'to', 'see', 'you', '.', 'let', \"'s\", 'start', 'our', 'text', 'mine', 'class', '!']\n"
     ]
    }
   ],
   "source": [
    "from nltk.tokenize import word_tokenize\n",
    "\n",
    "para = \"Hello everyone. It's good to see you. Let's start our text mining class!\"\n",
    "tokens = word_tokenize(para)  # Execute tokenization\n",
    "print(tokens)\n",
    "result = [stemmer.stem(token) for token in tokens]  # Perform stemming on all tokens\n",
    "print(result)"
   ]
  },
  {
   "cell_type": "markdown",
   "metadata": {
    "id": "MEBEb4GrgwKP"
   },
   "source": [
    "Porter Stemmer: The Porter Stemmer uses a series of rules to progressively reduce words to their base or root form. It has a more intricate set of rules and is generally more conservative in its stemming, meaning it may not reduce words as aggressively.\n",
    "\n",
    "\n",
    "Lancaster Stemmer: The Lancaster Stemmer is more aggressive and applies a simpler, more straightforward set of rules. It often reduces words more significantly than the Porter Stemmer, which can sometimes lead to less recognizable stems."
   ]
  },
  {
   "cell_type": "code",
   "execution_count": null,
   "metadata": {
    "colab": {
     "base_uri": "https://localhost:8080/"
    },
    "executionInfo": {
     "elapsed": 3,
     "status": "ok",
     "timestamp": 1727057991302,
     "user": {
      "displayName": "­손민주 | 인공지능학과 | 한양대(서울)",
      "userId": "12088855146953780462"
     },
     "user_tz": -540
    },
    "id": "BoSkCDoat1s4",
    "outputId": "10193545-bb59-4685-9b7d-b693ac3b1588"
   },
   "outputs": [
    {
     "name": "stdout",
     "output_type": "stream",
     "text": [
      "cook cookery cookbook\n"
     ]
    }
   ],
   "source": [
    "from nltk.stem import LancasterStemmer\n",
    "stemmer = LancasterStemmer()\n",
    "print(stemmer.stem('cooking'), stemmer.stem('cookery'), stemmer.stem('cookbooks'))\n",
    "\n",
    "#The Lancaster Stemmer applies a different set of rules compared to the Porter Stemmer"
   ]
  },
  {
   "cell_type": "markdown",
   "metadata": {
    "id": "U5TlN6AmGsWy"
   },
   "source": [
    "Porter Stemmer is usually the better choice. The Lancaster Stemmer can be more effective in some scenarios, but it may also result in more aggressive reductions, meaning it can reduce words more drastically."
   ]
  },
  {
   "cell_type": "markdown",
   "metadata": {
    "id": "M79JSHyxt1s4"
   },
   "source": [
    "## 2.2 Lemmatization"
   ]
  },
  {
   "cell_type": "markdown",
   "metadata": {
    "id": "EV1zITbJZOLh"
   },
   "source": [
    "Lemmatization also reduces words to their base form but considers the context and part of speech, resulting in actual words. For example, 'running' becomes 'run,' but 'better' becomes 'good.' It’s more accurate than stemming."
   ]
  },
  {
   "cell_type": "code",
   "execution_count": null,
   "metadata": {
    "colab": {
     "base_uri": "https://localhost:8080/"
    },
    "executionInfo": {
     "elapsed": 2286,
     "status": "ok",
     "timestamp": 1727052466255,
     "user": {
      "displayName": "­손민주 | 인공지능학과 | 한양대(서울)",
      "userId": "12088855146953780462"
     },
     "user_tz": -540
    },
    "id": "FcOn6O388ykR",
    "outputId": "1941cac0-3d4f-43a5-8588-8fa6325c5861"
   },
   "outputs": [
    {
     "name": "stdout",
     "output_type": "stream",
     "text": [
      "cooking\n",
      "cook\n",
      "cookery\n",
      "cookbook\n"
     ]
    }
   ],
   "source": [
    "from nltk.stem import WordNetLemmatizer\n",
    "lemmatizer = WordNetLemmatizer()\n",
    "\n",
    "print(lemmatizer.lemmatize('cooking'))  # Lemmatize without specifying part of speech\n",
    "print(lemmatizer.lemmatize('cooking', pos='v'))  # Lemmatize with part of speech as verb\n",
    "print(lemmatizer.lemmatize('cookery'))  # Lemmatize \"cookery\"\n",
    "print(lemmatizer.lemmatize('cookbooks'))  # Lemmatize \"cookbooks\""
   ]
  },
  {
   "cell_type": "code",
   "execution_count": null,
   "metadata": {
    "colab": {
     "base_uri": "https://localhost:8080/"
    },
    "executionInfo": {
     "elapsed": 23,
     "status": "ok",
     "timestamp": 1727052466256,
     "user": {
      "displayName": "­손민주 | 인공지능학과 | 한양대(서울)",
      "userId": "12088855146953780462"
     },
     "user_tz": -540
    },
    "id": "5gGtXecst1s5",
    "outputId": "ab4700ab-d769-492a-e83b-7149c945bf8b",
    "scrolled": true
   },
   "outputs": [
    {
     "name": "stdout",
     "output_type": "stream",
     "text": [
      "stemming result: believ\n",
      "lemmatizing result: belief\n",
      "lemmatizing result: believe\n"
     ]
    }
   ],
   "source": [
    "# Comparison of lemmatizing and stemming\n",
    "from nltk.stem import PorterStemmer\n",
    "stemmer = PorterStemmer()\n",
    "print('stemming result:', stemmer.stem('believes'))\n",
    "print('lemmatizing result:', lemmatizer.lemmatize('believes'))\n",
    "print('lemmatizing result:', lemmatizer.lemmatize('believes', pos='v'))         #pos ='v' specifying it is a verb"
   ]
  },
  {
   "cell_type": "markdown",
   "metadata": {
    "id": "zbINWnv0t1s5"
   },
   "source": [
    "# 3. Part-of-Speech Tagging"
   ]
  },
  {
   "cell_type": "markdown",
   "metadata": {
    "id": "Lz5ADE1It1s5"
   },
   "source": [
    "## 3.1 Understanding Parts of Speech"
   ]
  },
  {
   "cell_type": "markdown",
   "metadata": {
    "id": "HNXoH1baZFYx"
   },
   "source": [
    "Parts of Speech (POS) tagging involves identifying and labeling each word in a sentence with its grammatical category, such as noun, verb, adjective, etc. Understanding the parts of speech helps in analyzing the structure of the text and can improve tasks like parsing, sentiment analysis, and information extraction.\n"
   ]
  },
  {
   "cell_type": "markdown",
   "metadata": {
    "id": "2ymwaLYDZyaZ"
   },
   "source": [
    "![image.png](data:image/png;base64,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)"
   ]
  },
  {
   "cell_type": "markdown",
   "metadata": {
    "id": "-niIink8t1s5"
   },
   "source": [
    "## 3.2 Part-of-Speech Tagging using NLTK"
   ]
  },
  {
   "cell_type": "code",
   "execution_count": null,
   "metadata": {
    "colab": {
     "base_uri": "https://localhost:8080/"
    },
    "executionInfo": {
     "elapsed": 749,
     "status": "ok",
     "timestamp": 1727058127869,
     "user": {
      "displayName": "­손민주 | 인공지능학과 | 한양대(서울)",
      "userId": "12088855146953780462"
     },
     "user_tz": -540
    },
    "id": "GQm4F2aOt1s6",
    "outputId": "0ab65654-29af-444b-ab47-c1930270e77f"
   },
   "outputs": [
    {
     "name": "stdout",
     "output_type": "stream",
     "text": [
      "[('Hello', 'NNP'), ('everyone', 'NN'), ('.', '.'), ('It', 'PRP'), (\"'s\", 'VBZ'), ('good', 'JJ'), ('to', 'TO'), ('see', 'VB'), ('you', 'PRP'), ('.', '.'), ('Let', 'VB'), (\"'s\", 'POS'), ('start', 'VB'), ('our', 'PRP$'), ('text', 'NN'), ('mining', 'NN'), ('class', 'NN'), ('!', '.')]\n"
     ]
    }
   ],
   "source": [
    "import nltk\n",
    "from nltk.tokenize import word_tokenize\n",
    "\n",
    "tokens = word_tokenize(\"Hello everyone. It's good to see you. Let's start our text mining class!\")\n",
    "print(nltk.pos_tag(tokens))"
   ]
  },
  {
   "cell_type": "code",
   "execution_count": null,
   "metadata": {
    "colab": {
     "base_uri": "https://localhost:8080/"
    },
    "executionInfo": {
     "elapsed": 372,
     "status": "ok",
     "timestamp": 1727058133880,
     "user": {
      "displayName": "­손민주 | 인공지능학과 | 한양대(서울)",
      "userId": "12088855146953780462"
     },
     "user_tz": -540
    },
    "id": "cUoL1MeWt1tD",
    "outputId": "91a26149-3850-49b3-b3b3-64c79fff6b88"
   },
   "outputs": [
    {
     "name": "stdout",
     "output_type": "stream",
     "text": [
      "CC: conjunction, coordinating\n",
      "    & 'n and both but either et for less minus neither nor or plus so\n",
      "    therefore times v. versus vs. whether yet\n"
     ]
    }
   ],
   "source": [
    "nltk.help.upenn_tagset('CC')\n",
    "\n",
    "# Coordinating conjunctions are used to connect words, phrases, or clauses that are similar or equal in structure.\n",
    "#Examples of coordinating conjunctions include: and, but, or, nor, for, so, yet."
   ]
  },
  {
   "cell_type": "code",
   "execution_count": null,
   "metadata": {
    "colab": {
     "base_uri": "https://localhost:8080/"
    },
    "executionInfo": {
     "elapsed": 5,
     "status": "ok",
     "timestamp": 1727058134199,
     "user": {
      "displayName": "­손민주 | 인공지능학과 | 한양대(서울)",
      "userId": "12088855146953780462"
     },
     "user_tz": -540
    },
    "id": "NnZgCqTst1tD",
    "outputId": "ef5805b3-9dbf-4f03-e8e9-33c0f66667d2"
   },
   "outputs": [
    {
     "name": "stdout",
     "output_type": "stream",
     "text": [
      "['everyone', 'good', 'see', 'Let', 'start', 'text', 'mining', 'class']\n"
     ]
    }
   ],
   "source": [
    "my_tag_set = ['NN', 'VB', 'JJ']\n",
    "my_words = [word for word, tag in nltk.pos_tag(tokens) if tag in my_tag_set]\n",
    "print(my_words)"
   ]
  },
  {
   "cell_type": "code",
   "execution_count": null,
   "metadata": {
    "colab": {
     "base_uri": "https://localhost:8080/"
    },
    "executionInfo": {
     "elapsed": 392,
     "status": "ok",
     "timestamp": 1727058164934,
     "user": {
      "displayName": "­손민주 | 인공지능학과 | 한양대(서울)",
      "userId": "12088855146953780462"
     },
     "user_tz": -540
    },
    "id": "EuhadlQFt1tE",
    "outputId": "65033f51-95c4-4029-cc20-e92e9dc56419"
   },
   "outputs": [
    {
     "name": "stdout",
     "output_type": "stream",
     "text": [
      "['Hello/NNP', 'everyone/NN', './.', 'It/PRP', \"'s/VBZ\", 'good/JJ', 'to/TO', 'see/VB', 'you/PRP', './.', 'Let/VB', \"'s/POS\", 'start/VB', 'our/PRP$', 'text/NN', 'mining/NN', 'class/NN', '!/.']\n"
     ]
    }
   ],
   "source": [
    "words_with_tag = ['/'.join(item) for item in nltk.pos_tag(tokens)]\n",
    "print(words_with_tag)\n",
    "#after / the type of part of speech is mentioned"
   ]
  },
  {
   "cell_type": "code",
   "execution_count": null,
   "metadata": {
    "id": "cQH6LLoRt1tI"
   },
   "outputs": [],
   "source": []
  },
  {
   "cell_type": "markdown",
   "metadata": {
    "id": "gDVxSxX6ATVb"
   },
   "source": [
    "# 4. Named Entity Recognition"
   ]
  },
  {
   "cell_type": "markdown",
   "metadata": {
    "id": "_iran69AAcm_"
   },
   "source": [
    "## 4.1 Understanding Named Entity Recognition"
   ]
  },
  {
   "cell_type": "markdown",
   "metadata": {
    "id": "gtykbIIXZ5Gm"
   },
   "source": [
    "Named Entity Recognition (NER) is the process of identifying and classifying entities in text, such as names of people, organizations, locations, dates, and more. NER helps in extracting important information from text, enabling tasks like information retrieval, question answering, and summarization."
   ]
  },
  {
   "cell_type": "markdown",
   "metadata": {
    "id": "pT2rlId7Ai2J"
   },
   "source": [
    "## 4.2 Named Entity Recognition using NTLK"
   ]
  },
  {
   "cell_type": "code",
   "execution_count": null,
   "metadata": {
    "colab": {
     "base_uri": "https://localhost:8080/"
    },
    "executionInfo": {
     "elapsed": 14,
     "status": "ok",
     "timestamp": 1727052466608,
     "user": {
      "displayName": "­손민주 | 인공지능학과 | 한양대(서울)",
      "userId": "12088855146953780462"
     },
     "user_tz": -540
    },
    "id": "B4mtFUvlAWmj",
    "outputId": "e1662fa7-74b8-4b5a-c667-eca9c98058fe"
   },
   "outputs": [
    {
     "name": "stdout",
     "output_type": "stream",
     "text": [
      "[('James', 'NNP'), ('is', 'VBZ'), ('working', 'VBG'), ('at', 'IN'), ('Disney', 'NNP'), ('in', 'IN'), ('London', 'NNP')]\n"
     ]
    }
   ],
   "source": [
    "from nltk import word_tokenize, pos_tag, ne_chunk\n",
    "\n",
    "#word_tokenize: Tokenizes the input sentence into individual words.\n",
    "#pos_tag: Assigns part-of-speech tags to each token.\n",
    "#ne_chunk: Identifies and classifies named entities in the tagged tokens.\n",
    "\n",
    "\n",
    "sentence = \"James is working at Disney in London\"\n",
    "# Tokenization followed by POS tagging\n",
    "tokenized_sentence = pos_tag(word_tokenize(sentence))\n",
    "print(tokenized_sentence)\n",
    "\n",
    "Sam sung -> Sa"
   ]
  },
  {
   "cell_type": "code",
   "execution_count": null,
   "metadata": {
    "colab": {
     "base_uri": "https://localhost:8080/"
    },
    "executionInfo": {
     "elapsed": 11,
     "status": "ok",
     "timestamp": 1727052466608,
     "user": {
      "displayName": "­손민주 | 인공지능학과 | 한양대(서울)",
      "userId": "12088855146953780462"
     },
     "user_tz": -540
    },
    "id": "ygJXYx2mA1bZ",
    "outputId": "b81724d2-b319-4ddb-90db-f572ea88b5e6"
   },
   "outputs": [
    {
     "name": "stdout",
     "output_type": "stream",
     "text": [
      "(S\n",
      "  (PERSON James/NNP)\n",
      "  is/VBZ\n",
      "  working/VBG\n",
      "  at/IN\n",
      "  (ORGANIZATION Disney/NNP)\n",
      "  in/IN\n",
      "  (GPE London/NNP))\n"
     ]
    }
   ],
   "source": [
    "# Named Entity Recogntion\n",
    "ner_sentence = ne_chunk(tokenized_sentence)\n",
    "print(ner_sentence)"
   ]
  },
  {
   "cell_type": "code",
   "execution_count": null,
   "metadata": {
    "id": "eULEsdHXA27z"
   },
   "outputs": [],
   "source": []
  }
 ],
 "metadata": {
  "colab": {
   "provenance": []
  },
  "kernelspec": {
   "display_name": "Python 3 (ipykernel)",
   "language": "python",
   "name": "python3"
  },
  "language_info": {
   "codemirror_mode": {
    "name": "ipython",
    "version": 3
   },
   "file_extension": ".py",
   "mimetype": "text/x-python",
   "name": "python",
   "nbconvert_exporter": "python",
   "pygments_lexer": "ipython3",
   "version": "3.8.0"
  },
  "toc": {
   "base_numbering": 1,
   "nav_menu": {},
   "number_sections": true,
   "sideBar": true,
   "skip_h1_title": false,
   "title_cell": "Table of Contents",
   "title_sidebar": "Contents",
   "toc_cell": true,
   "toc_position": {},
   "toc_section_display": true,
   "toc_window_display": true
  },
  "varInspector": {
   "cols": {
    "lenName": 16,
    "lenType": 16,
    "lenVar": 40
   },
   "kernels_config": {
    "python": {
     "delete_cmd_postfix": "",
     "delete_cmd_prefix": "del ",
     "library": "var_list.py",
     "varRefreshCmd": "print(var_dic_list())"
    },
    "r": {
     "delete_cmd_postfix": ") ",
     "delete_cmd_prefix": "rm(",
     "library": "var_list.r",
     "varRefreshCmd": "cat(var_dic_list()) "
    }
   },
   "types_to_exclude": [
    "module",
    "function",
    "builtin_function_or_method",
    "instance",
    "_Feature"
   ],
   "window_display": false
  }
 },
 "nbformat": 4,
 "nbformat_minor": 0
}
